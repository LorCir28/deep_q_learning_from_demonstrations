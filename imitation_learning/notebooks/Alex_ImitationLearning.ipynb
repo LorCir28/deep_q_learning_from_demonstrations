{
  "cells": [
    {
      "cell_type": "code",
      "execution_count": null,
      "metadata": {
        "colab": {
          "base_uri": "https://localhost:8080/"
        },
        "id": "lubiJGbs-XMa",
        "outputId": "3828c79d-e778-4b6d-d80d-c26029e7e804"
      },
      "outputs": [
        {
          "name": "stdout",
          "output_type": "stream",
          "text": [
            "Mounted at /content/drive\n"
          ]
        }
      ],
      "source": [
        "from google.colab import drive\n",
        "drive.mount(\"/content/drive\", force_remount=True)"
      ]
    },
    {
      "cell_type": "code",
      "execution_count": null,
      "metadata": {
        "colab": {
          "base_uri": "https://localhost:8080/"
        },
        "id": "1tTiOTfREOlI",
        "outputId": "6adbc631-9613-4ffb-f536-1ef7c64e5277"
      },
      "outputs": [
        {
          "name": "stdout",
          "output_type": "stream",
          "text": [
            "Looking in indexes: https://pypi.org/simple, https://us-python.pkg.dev/colab-wheels/public/simple/\n",
            "Requirement already satisfied: ALE in /usr/local/lib/python3.8/dist-packages (0.8.4)\n",
            "Looking in indexes: https://pypi.org/simple, https://us-python.pkg.dev/colab-wheels/public/simple/\n",
            "Requirement already satisfied: gym[accept-rom-license,atari]==0.21.0 in /usr/local/lib/python3.8/dist-packages (0.21.0)\n",
            "Requirement already satisfied: numpy>=1.18.0 in /usr/local/lib/python3.8/dist-packages (from gym[accept-rom-license,atari]==0.21.0) (1.21.6)\n",
            "Requirement already satisfied: cloudpickle>=1.2.0 in /usr/local/lib/python3.8/dist-packages (from gym[accept-rom-license,atari]==0.21.0) (2.2.1)\n",
            "Requirement already satisfied: autorom[accept-rom-license]~=0.4.2 in /usr/local/lib/python3.8/dist-packages (from gym[accept-rom-license,atari]==0.21.0) (0.4.2)\n",
            "Requirement already satisfied: ale-py~=0.7.1 in /usr/local/lib/python3.8/dist-packages (from gym[accept-rom-license,atari]==0.21.0) (0.7.5)\n",
            "Requirement already satisfied: importlib-metadata>=4.10.0 in /usr/local/lib/python3.8/dist-packages (from ale-py~=0.7.1->gym[accept-rom-license,atari]==0.21.0) (6.0.0)\n",
            "Requirement already satisfied: importlib-resources in /usr/local/lib/python3.8/dist-packages (from ale-py~=0.7.1->gym[accept-rom-license,atari]==0.21.0) (5.10.2)\n",
            "Requirement already satisfied: click in /usr/local/lib/python3.8/dist-packages (from autorom[accept-rom-license]~=0.4.2->gym[accept-rom-license,atari]==0.21.0) (7.1.2)\n",
            "Requirement already satisfied: requests in /usr/local/lib/python3.8/dist-packages (from autorom[accept-rom-license]~=0.4.2->gym[accept-rom-license,atari]==0.21.0) (2.25.1)\n",
            "Requirement already satisfied: tqdm in /usr/local/lib/python3.8/dist-packages (from autorom[accept-rom-license]~=0.4.2->gym[accept-rom-license,atari]==0.21.0) (4.64.1)\n",
            "Requirement already satisfied: AutoROM.accept-rom-license in /usr/local/lib/python3.8/dist-packages (from autorom[accept-rom-license]~=0.4.2->gym[accept-rom-license,atari]==0.21.0) (0.5.4)\n",
            "Requirement already satisfied: zipp>=0.5 in /usr/local/lib/python3.8/dist-packages (from importlib-metadata>=4.10.0->ale-py~=0.7.1->gym[accept-rom-license,atari]==0.21.0) (3.12.0)\n",
            "Requirement already satisfied: libtorrent in /usr/local/lib/python3.8/dist-packages (from AutoROM.accept-rom-license->autorom[accept-rom-license]~=0.4.2->gym[accept-rom-license,atari]==0.21.0) (2.0.7)\n",
            "Requirement already satisfied: idna<3,>=2.5 in /usr/local/lib/python3.8/dist-packages (from requests->autorom[accept-rom-license]~=0.4.2->gym[accept-rom-license,atari]==0.21.0) (2.10)\n",
            "Requirement already satisfied: chardet<5,>=3.0.2 in /usr/local/lib/python3.8/dist-packages (from requests->autorom[accept-rom-license]~=0.4.2->gym[accept-rom-license,atari]==0.21.0) (4.0.0)\n",
            "Requirement already satisfied: certifi>=2017.4.17 in /usr/local/lib/python3.8/dist-packages (from requests->autorom[accept-rom-license]~=0.4.2->gym[accept-rom-license,atari]==0.21.0) (2022.12.7)\n",
            "Requirement already satisfied: urllib3<1.27,>=1.21.1 in /usr/local/lib/python3.8/dist-packages (from requests->autorom[accept-rom-license]~=0.4.2->gym[accept-rom-license,atari]==0.21.0) (1.24.3)\n"
          ]
        }
      ],
      "source": [
        "!pip install ALE\n",
        "!pip install gym[atari,accept-rom-license]==0.21.0"
      ]
    },
    {
      "cell_type": "markdown",
      "metadata": {
        "id": "YykInrFDExP2"
      },
      "source": [
        "## Packages"
      ]
    },
    {
      "cell_type": "code",
      "execution_count": null,
      "metadata": {
        "id": "EQThZJ9hE1i-"
      },
      "outputs": [],
      "source": [
        "from torch.utils.data.dataset import Dataset\n",
        "from torchvision import transforms\n",
        "import torch\n",
        "import torch.utils\n",
        "import torch.nn as nn\n",
        "import torch.nn.functional as F\n",
        "from torch.utils.data.dataset import Dataset, random_split\n",
        "import gym\n",
        "import numpy as np\n",
        "import pickle\n",
        "import matplotlib.pyplot as plt\n",
        "\n",
        "device = torch.device('cuda:0' if torch.cuda.is_available() else 'cpu')"
      ]
    },
    {
      "cell_type": "markdown",
      "metadata": {
        "id": "nnW6xB_pEz20"
      },
      "source": [
        "## Pytorch Dataset"
      ]
    },
    {
      "cell_type": "code",
      "execution_count": null,
      "metadata": {
        "id": "V5TP7CkuEyj8"
      },
      "outputs": [],
      "source": [
        "class ExpertDataSet(Dataset):\n",
        "    def __init__(self, expert_observations, expert_actions):\n",
        "        self.observations = expert_observations\n",
        "        self.actions = expert_actions\n",
        "        self.img_transforms=transforms.Compose([transforms.ToTensor()])\n",
        "\n",
        "    def __getitem__(self, index):\n",
        "        return (self.img_transforms(self.observations[index]), self.actions[index])\n",
        "\n",
        "    def __len__(self):\n",
        "        return len(self.observations)"
      ]
    },
    {
      "cell_type": "markdown",
      "metadata": {
        "id": "YQWZo_2GFRlY"
      },
      "source": [
        "## Neural Network"
      ]
    },
    {
      "cell_type": "code",
      "execution_count": null,
      "metadata": {
        "id": "2PGTLYSvFV2g"
      },
      "outputs": [],
      "source": [
        "class ImitationAgent(nn.Module):\n",
        "  def __init__(self, num_actions, batch_size=64):\n",
        "    super(ImitationAgent, self).__init__()\n",
        "    self.batch_size = batch_size\n",
        "\n",
        "    self.layer1 = nn.Sequential(\n",
        "            nn.Conv2d(3, 96, kernel_size=11, stride=4, padding=0),\n",
        "            nn.BatchNorm2d(96),\n",
        "            nn.ReLU(),\n",
        "            nn.MaxPool2d(kernel_size = 3, stride = 2))\n",
        "    self.layer2 = nn.Sequential(\n",
        "        nn.Conv2d(96, 256, kernel_size=5, stride=1, padding=2),\n",
        "        nn.BatchNorm2d(256),\n",
        "        nn.ReLU(),\n",
        "        nn.MaxPool2d(kernel_size = 3, stride = 2))\n",
        "    self.layer3 = nn.Sequential(\n",
        "        nn.Conv2d(256, 384, kernel_size=3, stride=1, padding=1),\n",
        "        nn.BatchNorm2d(384),\n",
        "        nn.ReLU())\n",
        "    self.layer4 = nn.Sequential(\n",
        "        nn.Conv2d(384, 384, kernel_size=3, stride=1, padding=1),\n",
        "        nn.BatchNorm2d(384),\n",
        "        nn.ReLU())\n",
        "    self.layer5 = nn.Sequential(\n",
        "        nn.Conv2d(384, 256, kernel_size=3, stride=1, padding=1),\n",
        "        nn.BatchNorm2d(256),\n",
        "        nn.ReLU(),\n",
        "        nn.MaxPool2d(kernel_size = 3, stride = 2))\n",
        "    self.fc = nn.Sequential(\n",
        "        nn.Dropout(0.5),\n",
        "        nn.Linear(3840, 4096),\n",
        "        nn.ReLU())\n",
        "    self.fc1 = nn.Sequential(\n",
        "        nn.Dropout(0.5),\n",
        "        nn.Linear(4096, 4096),\n",
        "        nn.ReLU())\n",
        "    self.fc2= nn.Sequential(\n",
        "        nn.Linear(4096, num_actions))\n",
        "\n",
        "  def forward(self, x):\n",
        "      out = self.layer1(x)\n",
        "      out = self.layer2(out)\n",
        "      out = self.layer3(out)\n",
        "      out = self.layer4(out)\n",
        "      out = self.layer5(out)\n",
        "      out = out.reshape(out.size(0), -1)\n",
        "      out = self.fc(out)\n",
        "      out = self.fc1(out)\n",
        "      out = self.fc2(out)\n",
        "      return out,F.softmax(out, dim=1)\n",
        "\n",
        "  def act(self, state):\n",
        "      # Stack 4 states\n",
        "      state = torch.vstack([self.preproc_state(state) for i in range(1)]).unsqueeze(0)\n",
        "      \n",
        "      # Get Action Probabilities\n",
        "      _,probs = self.forward(state)\n",
        "      \n",
        "      \n",
        "      # Return Action and LogProb\n",
        "      action = probs.argmax(-1)\n",
        "      return action.item()\n",
        "    \n",
        "  def preproc_state(self, state):\n",
        "      # State Preprocessing\n",
        "      state = state.transpose(2,0,1) #Torch wants images in format (channels, height, width)\n",
        "      state = torch.from_numpy(state)\n",
        "      \n",
        "      return state/255 # normalize\n",
        "        \n",
        "        \n",
        "    "
      ]
    },
    {
      "cell_type": "markdown",
      "metadata": {
        "id": "oyxs7lfkFXUh"
      },
      "source": [
        "## Train"
      ]
    },
    {
      "cell_type": "code",
      "execution_count": null,
      "metadata": {
        "id": "QW5truTamNOg"
      },
      "outputs": [],
      "source": [
        "objects = []\n",
        "with (open(\"/content/drive/MyDrive/Colab Notebooks/RL/Project/expert_tracefirst_final.pkl\", \"rb\")) as openfile:\n",
        "    while True:\n",
        "        try:\n",
        "            objects.append(pickle.load(openfile))\n",
        "        except EOFError:\n",
        "            break\n",
        "\n",
        "obs = objects[0][0]\n",
        "act = objects[0][1]\n",
        "\n",
        "expert_dataset = ExpertDataSet(obs, act)\n"
      ]
    },
    {
      "cell_type": "code",
      "execution_count": null,
      "metadata": {
        "colab": {
          "base_uri": "https://localhost:8080/"
        },
        "id": "Jgf-Z3wduAaH",
        "outputId": "749f15b2-efff-4047-fb68-94d488e886b0"
      },
      "outputs": [
        {
          "name": "stdout",
          "output_type": "stream",
          "text": [
            "Action balancing\n",
            "Action: 0 || Execution: 405\n",
            "Action: 1 || Execution: 305\n",
            "Action: 2 || Execution: 1186\n",
            "Action: 3 || Execution: 377\n",
            "Action: 4 || Execution: 597\n",
            "Action: 5 || Execution: 531\n",
            "Action: 6 || Execution: 824\n",
            "Action: 7 || Execution: 396\n",
            "Action: 8 || Execution: 486\n",
            "Action: 9 || Execution: 464\n",
            "Action: 10 || Execution: 193\n",
            "Action: 11 || Execution: 240\n",
            "Action: 12 || Execution: 449\n",
            "Action: 13 || Execution: 522\n",
            "Action: 14 || Execution: 494\n",
            "Action: 15 || Execution: 266\n",
            "Action: 16 || Execution: 368\n",
            "Action: 17 || Execution: 250\n"
          ]
        }
      ],
      "source": [
        "env = gym.make('MontezumaRevengeNoFrameskip-v4', render_mode='rgb_array')\n",
        "print(\"Action balancing\")\n",
        "val = []\n",
        "exe = []\n",
        "\n",
        "for action in range(env.action_space.n):\n",
        "  a = act.count(action)\n",
        "  print(\"Action: {} || Execution: {}\".format(action,act.count(action)))\n",
        "  val.append(action)\n",
        "  exe.append(a) "
      ]
    },
    {
      "cell_type": "code",
      "execution_count": null,
      "metadata": {
        "colab": {
          "base_uri": "https://localhost:8080/",
          "height": 350
        },
        "id": "bnMzlXLhvXxI",
        "outputId": "7870262a-977d-4ce5-83cb-d20c6848217f"
      },
      "outputs": [
        {
          "data": {
            "image/png": "[encoded data removed]",
            "text/plain": [
              "<Figure size 720x360 with 1 Axes>"
            ]
          },
          "metadata": {
            "needs_background": "light"
          },
          "output_type": "display_data"
        }
      ],
      "source": [
        "\n",
        "# creating the dataset\n",
        "\n",
        "courses = val\n",
        "values = exe\n",
        "  \n",
        "fig = plt.figure(figsize = (10, 5))\n",
        " \n",
        "# creating the bar plot\n",
        "plt.bar(courses, values, color ='maroon',\n",
        "        width = 0.4)\n",
        " \n",
        "plt.xlabel(\"Courses offered\")\n",
        "plt.ylabel(\"No. of students enrolled\")\n",
        "plt.title(\"Students enrolled in different courses\")\n",
        "plt.show()"
      ]
    },
    {
      "cell_type": "code",
      "execution_count": null,
      "metadata": {
        "colab": {
          "base_uri": "https://localhost:8080/"
        },
        "id": "xB2-km8MnvQV",
        "outputId": "bbb5499e-232b-458c-dbf6-83ea533a5175"
      },
      "outputs": [
        {
          "name": "stdout",
          "output_type": "stream",
          "text": [
            "Expert interactions size:  8353\n",
            "8353\n"
          ]
        }
      ],
      "source": [
        "print(\"Expert interactions size: \", len(obs))\n",
        "print(len(act))"
      ]
    },
    {
      "cell_type": "code",
      "execution_count": null,
      "metadata": {
        "id": "aD6xQmxy8Erd"
      },
      "outputs": [],
      "source": [
        "for i in range(10):\n",
        "  act.pop()"
      ]
    },
    {
      "cell_type": "code",
      "execution_count": null,
      "metadata": {
        "id": "2Jyr-8s3p4fz"
      },
      "outputs": [],
      "source": [
        "# Define relevant variables for the ML task\n",
        "learning_rate = 0.001\n",
        "num_epochs = 30\n",
        "num_workers = 2\n",
        "batch_size = 640\n",
        "train_prop = 0.7\n",
        "train_size = int(train_prop * len(expert_dataset))\n",
        "test_size = len(expert_dataset) - train_size"
      ]
    },
    {
      "cell_type": "code",
      "execution_count": null,
      "metadata": {
        "id": "AAT6wkv_p7K8"
      },
      "outputs": [],
      "source": [
        "train_expert_dataset, test_expert_dataset = random_split(expert_dataset, [train_size, test_size])\n",
        "train_loader = torch.utils.data.DataLoader(  dataset=train_expert_dataset, batch_size=batch_size, shuffle=True,num_workers=num_workers)\n",
        "test_loader = torch.utils.data.DataLoader(  dataset=test_expert_dataset, batch_size=batch_size, shuffle=True,num_workers=num_workers)\n",
        "batch_limit = len(train_loader)"
      ]
    },
    {
      "cell_type": "code",
      "execution_count": null,
      "metadata": {
        "colab": {
          "base_uri": "https://localhost:8080/"
        },
        "id": "hPKeJtNyFYWH",
        "outputId": "69e3ac00-1c2f-4fdf-b487-0c9263ffd5ee"
      },
      "outputs": [
        {
          "name": "stdout",
          "output_type": "stream",
          "text": [
            "Epoch 1/30 | Batch 1/10 | Training Loss: 2.9183\n",
            "Epoch 1/30 | Batch 2/10 | Training Loss: 2.9325\n",
            "Epoch 1/30 | Batch 3/10 | Training Loss: 2.8967\n",
            "Epoch 1/30 | Batch 4/10 | Training Loss: 2.8638\n",
            "Epoch 1/30 | Batch 5/10 | Training Loss: 2.8444\n",
            "Epoch 1/30 | Batch 6/10 | Training Loss: 2.8005\n",
            "Epoch 1/30 | Batch 7/10 | Training Loss: 2.7762\n",
            "Epoch 1/30 | Batch 8/10 | Training Loss: 2.7559\n",
            "Epoch 1/30 | Batch 9/10 | Training Loss: 2.8307\n",
            "Epoch 1/30 | Batch 10/10 | Training Loss: 2.8029\n",
            "Epoch 2/30 | Batch 1/10 | Training Loss: 2.7452\n",
            "Epoch 2/30 | Batch 2/10 | Training Loss: 2.8250\n",
            "Epoch 2/30 | Batch 3/10 | Training Loss: 2.7224\n",
            "Epoch 2/30 | Batch 4/10 | Training Loss: 2.8015\n",
            "Epoch 2/30 | Batch 5/10 | Training Loss: 2.7814\n",
            "Epoch 2/30 | Batch 6/10 | Training Loss: 2.7637\n",
            "Epoch 2/30 | Batch 7/10 | Training Loss: 2.7900\n",
            "Epoch 2/30 | Batch 8/10 | Training Loss: 2.7368\n",
            "Epoch 2/30 | Batch 9/10 | Training Loss: 2.7331\n",
            "Epoch 2/30 | Batch 10/10 | Training Loss: 2.7355\n",
            "Epoch 3/30 | Batch 1/10 | Training Loss: 2.7263\n",
            "Epoch 3/30 | Batch 2/10 | Training Loss: 2.7135\n",
            "Epoch 3/30 | Batch 3/10 | Training Loss: 2.7227\n",
            "Epoch 3/30 | Batch 4/10 | Training Loss: 2.7034\n",
            "Epoch 3/30 | Batch 5/10 | Training Loss: 2.7228\n",
            "Epoch 3/30 | Batch 6/10 | Training Loss: 2.7231\n",
            "Epoch 3/30 | Batch 7/10 | Training Loss: 2.6675\n",
            "Epoch 3/30 | Batch 8/10 | Training Loss: 2.6939\n",
            "Epoch 3/30 | Batch 9/10 | Training Loss: 2.6766\n",
            "Epoch 3/30 | Batch 10/10 | Training Loss: 2.6630\n",
            "Epoch 4/30 | Batch 1/10 | Training Loss: 2.6395\n",
            "Epoch 4/30 | Batch 2/10 | Training Loss: 2.6705\n",
            "Epoch 4/30 | Batch 3/10 | Training Loss: 2.6208\n",
            "Epoch 4/30 | Batch 4/10 | Training Loss: 2.6415\n",
            "Epoch 4/30 | Batch 5/10 | Training Loss: 2.7098\n",
            "Epoch 4/30 | Batch 6/10 | Training Loss: 2.6190\n",
            "Epoch 4/30 | Batch 7/10 | Training Loss: 2.7127\n",
            "Epoch 4/30 | Batch 8/10 | Training Loss: 2.6114\n",
            "Epoch 4/30 | Batch 9/10 | Training Loss: 2.6334\n",
            "Epoch 4/30 | Batch 10/10 | Training Loss: 2.6239\n",
            "Epoch 5/30 | Batch 1/10 | Training Loss: 2.6048\n",
            "Epoch 5/30 | Batch 2/10 | Training Loss: 2.6003\n",
            "Epoch 5/30 | Batch 3/10 | Training Loss: 2.6199\n",
            "Epoch 5/30 | Batch 4/10 | Training Loss: 2.5495\n",
            "Epoch 5/30 | Batch 5/10 | Training Loss: 2.5787\n",
            "Epoch 5/30 | Batch 6/10 | Training Loss: 2.5754\n",
            "Epoch 5/30 | Batch 7/10 | Training Loss: 2.5948\n",
            "Epoch 5/30 | Batch 8/10 | Training Loss: 2.6130\n",
            "Epoch 5/30 | Batch 9/10 | Training Loss: 2.5891\n",
            "Epoch 5/30 | Batch 10/10 | Training Loss: 2.5806\n",
            "Epoch 6/30 | Batch 1/10 | Training Loss: 2.5137\n",
            "Epoch 6/30 | Batch 2/10 | Training Loss: 2.5495\n",
            "Epoch 6/30 | Batch 3/10 | Training Loss: 2.5298\n",
            "Epoch 6/30 | Batch 4/10 | Training Loss: 2.6089\n",
            "Epoch 6/30 | Batch 5/10 | Training Loss: 2.4995\n",
            "Epoch 6/30 | Batch 6/10 | Training Loss: 2.5253\n",
            "Epoch 6/30 | Batch 7/10 | Training Loss: 2.5857\n",
            "Epoch 6/30 | Batch 8/10 | Training Loss: 2.5167\n",
            "Epoch 6/30 | Batch 9/10 | Training Loss: 2.5518\n",
            "Epoch 6/30 | Batch 10/10 | Training Loss: 2.5298\n",
            "Epoch 7/30 | Batch 1/10 | Training Loss: 2.4954\n",
            "Epoch 7/30 | Batch 2/10 | Training Loss: 2.4845\n",
            "Epoch 7/30 | Batch 3/10 | Training Loss: 2.4854\n",
            "Epoch 7/30 | Batch 4/10 | Training Loss: 2.5226\n",
            "Epoch 7/30 | Batch 5/10 | Training Loss: 2.4907\n",
            "Epoch 7/30 | Batch 6/10 | Training Loss: 2.5965\n",
            "Epoch 7/30 | Batch 7/10 | Training Loss: 2.4781\n",
            "Epoch 7/30 | Batch 8/10 | Training Loss: 2.4556\n",
            "Epoch 7/30 | Batch 9/10 | Training Loss: 2.4951\n",
            "Epoch 7/30 | Batch 10/10 | Training Loss: 2.5608\n",
            "Epoch 8/30 | Batch 1/10 | Training Loss: 2.4076\n",
            "Epoch 8/30 | Batch 2/10 | Training Loss: 2.4934\n",
            "Epoch 8/30 | Batch 3/10 | Training Loss: 2.3845\n",
            "Epoch 8/30 | Batch 4/10 | Training Loss: 2.5279\n",
            "Epoch 8/30 | Batch 5/10 | Training Loss: 2.5247\n",
            "Epoch 8/30 | Batch 6/10 | Training Loss: 2.4770\n",
            "Epoch 8/30 | Batch 7/10 | Training Loss: 2.4906\n",
            "Epoch 8/30 | Batch 8/10 | Training Loss: 2.4272\n",
            "Epoch 8/30 | Batch 9/10 | Training Loss: 2.3979\n",
            "Epoch 8/30 | Batch 10/10 | Training Loss: 2.4141\n",
            "Epoch 9/30 | Batch 1/10 | Training Loss: 2.3840\n",
            "Epoch 9/30 | Batch 2/10 | Training Loss: 2.4145\n",
            "Epoch 9/30 | Batch 3/10 | Training Loss: 2.4503\n",
            "Epoch 9/30 | Batch 4/10 | Training Loss: 2.4589\n",
            "Epoch 9/30 | Batch 5/10 | Training Loss: 2.4580\n",
            "Epoch 9/30 | Batch 6/10 | Training Loss: 2.4691\n",
            "Epoch 9/30 | Batch 7/10 | Training Loss: 2.4051\n",
            "Epoch 9/30 | Batch 8/10 | Training Loss: 2.3967\n",
            "Epoch 9/30 | Batch 9/10 | Training Loss: 2.3897\n",
            "Epoch 9/30 | Batch 10/10 | Training Loss: 2.3937\n",
            "Epoch 10/30 | Batch 1/10 | Training Loss: 2.4199\n",
            "Epoch 10/30 | Batch 2/10 | Training Loss: 2.3518\n",
            "Epoch 10/30 | Batch 3/10 | Training Loss: 2.4265\n",
            "Epoch 10/30 | Batch 4/10 | Training Loss: 2.3581\n",
            "Epoch 10/30 | Batch 5/10 | Training Loss: 2.3561\n",
            "Epoch 10/30 | Batch 6/10 | Training Loss: 2.4798\n",
            "Epoch 10/30 | Batch 7/10 | Training Loss: 2.3484\n",
            "Epoch 10/30 | Batch 8/10 | Training Loss: 2.4244\n",
            "Epoch 10/30 | Batch 9/10 | Training Loss: 2.3875\n",
            "Epoch 10/30 | Batch 10/10 | Training Loss: 2.3702\n",
            "Epoch 11/30 | Batch 1/10 | Training Loss: 2.3862\n",
            "Epoch 11/30 | Batch 2/10 | Training Loss: 2.4349\n",
            "Epoch 11/30 | Batch 3/10 | Training Loss: 2.3249\n",
            "Epoch 11/30 | Batch 4/10 | Training Loss: 2.2976\n",
            "Epoch 11/30 | Batch 5/10 | Training Loss: 2.3208\n",
            "Epoch 11/30 | Batch 6/10 | Training Loss: 2.3990\n",
            "Epoch 11/30 | Batch 7/10 | Training Loss: 2.3533\n",
            "Epoch 11/30 | Batch 8/10 | Training Loss: 2.3872\n",
            "Epoch 11/30 | Batch 9/10 | Training Loss: 2.3352\n",
            "Epoch 11/30 | Batch 10/10 | Training Loss: 2.2707\n",
            "Epoch 12/30 | Batch 1/10 | Training Loss: 2.3240\n",
            "Epoch 12/30 | Batch 2/10 | Training Loss: 2.3519\n",
            "Epoch 12/30 | Batch 3/10 | Training Loss: 2.3804\n",
            "Epoch 12/30 | Batch 4/10 | Training Loss: 2.2994\n",
            "Epoch 12/30 | Batch 5/10 | Training Loss: 2.3833\n",
            "Epoch 12/30 | Batch 6/10 | Training Loss: 2.3100\n",
            "Epoch 12/30 | Batch 7/10 | Training Loss: 2.3243\n",
            "Epoch 12/30 | Batch 8/10 | Training Loss: 2.3484\n",
            "Epoch 12/30 | Batch 9/10 | Training Loss: 2.2701\n",
            "Epoch 12/30 | Batch 10/10 | Training Loss: 2.4806\n",
            "Epoch 13/30 | Batch 1/10 | Training Loss: 2.3682\n",
            "Epoch 13/30 | Batch 2/10 | Training Loss: 2.3077\n",
            "Epoch 13/30 | Batch 3/10 | Training Loss: 2.2957\n",
            "Epoch 13/30 | Batch 4/10 | Training Loss: 2.3296\n",
            "Epoch 13/30 | Batch 5/10 | Training Loss: 2.2849\n",
            "Epoch 13/30 | Batch 6/10 | Training Loss: 2.2813\n",
            "Epoch 13/30 | Batch 7/10 | Training Loss: 2.2332\n",
            "Epoch 13/30 | Batch 8/10 | Training Loss: 2.3209\n",
            "Epoch 13/30 | Batch 9/10 | Training Loss: 2.2880\n",
            "Epoch 13/30 | Batch 10/10 | Training Loss: 2.3873\n",
            "Epoch 14/30 | Batch 1/10 | Training Loss: 2.2979\n",
            "Epoch 14/30 | Batch 2/10 | Training Loss: 2.2678\n",
            "Epoch 14/30 | Batch 3/10 | Training Loss: 2.3187\n",
            "Epoch 14/30 | Batch 4/10 | Training Loss: 2.2789\n",
            "Epoch 14/30 | Batch 5/10 | Training Loss: 2.2485\n",
            "Epoch 14/30 | Batch 6/10 | Training Loss: 2.3421\n",
            "Epoch 14/30 | Batch 7/10 | Training Loss: 2.2654\n",
            "Epoch 14/30 | Batch 8/10 | Training Loss: 2.2490\n",
            "Epoch 14/30 | Batch 9/10 | Training Loss: 2.2086\n",
            "Epoch 14/30 | Batch 10/10 | Training Loss: 2.2998\n",
            "Epoch 15/30 | Batch 1/10 | Training Loss: 2.2418\n",
            "Epoch 15/30 | Batch 2/10 | Training Loss: 2.3304\n",
            "Epoch 15/30 | Batch 3/10 | Training Loss: 2.2727\n",
            "Epoch 15/30 | Batch 4/10 | Training Loss: 2.2389\n",
            "Epoch 15/30 | Batch 5/10 | Training Loss: 2.2418\n",
            "Epoch 15/30 | Batch 6/10 | Training Loss: 2.2896\n",
            "Epoch 15/30 | Batch 7/10 | Training Loss: 2.2360\n",
            "Epoch 15/30 | Batch 8/10 | Training Loss: 2.2943\n",
            "Epoch 15/30 | Batch 9/10 | Training Loss: 2.2107\n",
            "Epoch 15/30 | Batch 10/10 | Training Loss: 2.1391\n",
            "Epoch 16/30 | Batch 1/10 | Training Loss: 2.2948\n",
            "Epoch 16/30 | Batch 2/10 | Training Loss: 2.2006\n",
            "Epoch 16/30 | Batch 3/10 | Training Loss: 2.1512\n",
            "Epoch 16/30 | Batch 4/10 | Training Loss: 2.2722\n",
            "Epoch 16/30 | Batch 5/10 | Training Loss: 2.2130\n",
            "Epoch 16/30 | Batch 6/10 | Training Loss: 2.3528\n",
            "Epoch 16/30 | Batch 7/10 | Training Loss: 2.2199\n",
            "Epoch 16/30 | Batch 8/10 | Training Loss: 2.2101\n",
            "Epoch 16/30 | Batch 9/10 | Training Loss: 2.1888\n",
            "Epoch 16/30 | Batch 10/10 | Training Loss: 2.1547\n",
            "Epoch 17/30 | Batch 1/10 | Training Loss: 2.2420\n",
            "Epoch 17/30 | Batch 2/10 | Training Loss: 2.1919\n",
            "Epoch 17/30 | Batch 3/10 | Training Loss: 2.2082\n",
            "Epoch 17/30 | Batch 4/10 | Training Loss: 2.1941\n",
            "Epoch 17/30 | Batch 5/10 | Training Loss: 2.2330\n",
            "Epoch 17/30 | Batch 6/10 | Training Loss: 2.1591\n",
            "Epoch 17/30 | Batch 7/10 | Training Loss: 2.2555\n",
            "Epoch 17/30 | Batch 8/10 | Training Loss: 2.2125\n",
            "Epoch 17/30 | Batch 9/10 | Training Loss: 2.1949\n",
            "Epoch 17/30 | Batch 10/10 | Training Loss: 2.1586\n",
            "Epoch 18/30 | Batch 1/10 | Training Loss: 2.2216\n",
            "Epoch 18/30 | Batch 2/10 | Training Loss: 2.2246\n",
            "Epoch 18/30 | Batch 3/10 | Training Loss: 2.2568\n",
            "Epoch 18/30 | Batch 4/10 | Training Loss: 2.1409\n",
            "Epoch 18/30 | Batch 5/10 | Training Loss: 2.2895\n"
          ]
        }
      ],
      "source": [
        "student = ImitationAgent(env.action_space.n)\n",
        "student.to(device)\n",
        "criterion = nn.CrossEntropyLoss()\n",
        "optimizer = torch.optim.SGD(student.parameters(), lr=learning_rate, weight_decay = 0.005, momentum = 0.9)  \n",
        "\n",
        "\n",
        "for epoch in range(num_epochs):\n",
        "    for batch, (images,labels) in enumerate(train_loader):\n",
        "        images = images.to(device)\n",
        "        labels = labels.to(device)\n",
        "        \n",
        "        results,_ = student(images)\n",
        "        loss = criterion(results, labels)\n",
        "\n",
        "        optimizer.zero_grad()\n",
        "        loss.backward()\n",
        "        optimizer.step()\n",
        "        print('Epoch {}/{} | Batch {}/{} | Training Loss: {:.4f}'.format(epoch+1, num_epochs, batch+1, batch_limit, loss.item()))\n",
        "\n",
        "        if epoch % 100 == 0:\n",
        "          net_checkpoint = \"/content/drive/MyDrive/Colab Notebooks/RL/Project/imit\"+str(epoch+1)+\".pt\"\n",
        "          torch.save(student.state_dict(), net_checkpoint)\n",
        "\n",
        "net_checkpoint = \"/content/drive/MyDrive/Colab Notebooks/RL/Project/imit_final.pt\"\n",
        "torch.save(student.state_dict(), net_checkpoint)"
      ]
    },
    {
      "cell_type": "code",
      "execution_count": null,
      "metadata": {
        "colab": {
          "base_uri": "https://localhost:8080/"
        },
        "id": "YsReTH7st3OU",
        "outputId": "1ae99de2-58d8-4317-dc33-886e1dde569f"
      },
      "outputs": [
        {
          "data": {
            "text/plain": [
              "tensor([[[[0., 0., 0.,  ..., 0., 0., 0.],\n",
              "          [0., 0., 0.,  ..., 0., 0., 0.],\n",
              "          [0., 0., 0.,  ..., 0., 0., 0.],\n",
              "          ...,\n",
              "          [0., 0., 0.,  ..., 0., 0., 0.],\n",
              "          [0., 0., 0.,  ..., 0., 0., 0.],\n",
              "          [0., 0., 0.,  ..., 0., 0., 0.]],\n",
              "\n",
              "         [[0., 0., 0.,  ..., 0., 0., 0.],\n",
              "          [0., 0., 0.,  ..., 0., 0., 0.],\n",
              "          [0., 0., 0.,  ..., 0., 0., 0.],\n",
              "          ...,\n",
              "          [0., 0., 0.,  ..., 0., 0., 0.],\n",
              "          [0., 0., 0.,  ..., 0., 0., 0.],\n",
              "          [0., 0., 0.,  ..., 0., 0., 0.]],\n",
              "\n",
              "         [[0., 0., 0.,  ..., 0., 0., 0.],\n",
              "          [0., 0., 0.,  ..., 0., 0., 0.],\n",
              "          [0., 0., 0.,  ..., 0., 0., 0.],\n",
              "          ...,\n",
              "          [0., 0., 0.,  ..., 0., 0., 0.],\n",
              "          [0., 0., 0.,  ..., 0., 0., 0.],\n",
              "          [0., 0., 0.,  ..., 0., 0., 0.]]],\n",
              "\n",
              "\n",
              "        [[[0., 0., 0.,  ..., 0., 0., 0.],\n",
              "          [0., 0., 0.,  ..., 0., 0., 0.],\n",
              "          [0., 0., 0.,  ..., 0., 0., 0.],\n",
              "          ...,\n",
              "          [0., 0., 0.,  ..., 0., 0., 0.],\n",
              "          [0., 0., 0.,  ..., 0., 0., 0.],\n",
              "          [0., 0., 0.,  ..., 0., 0., 0.]],\n",
              "\n",
              "         [[0., 0., 0.,  ..., 0., 0., 0.],\n",
              "          [0., 0., 0.,  ..., 0., 0., 0.],\n",
              "          [0., 0., 0.,  ..., 0., 0., 0.],\n",
              "          ...,\n",
              "          [0., 0., 0.,  ..., 0., 0., 0.],\n",
              "          [0., 0., 0.,  ..., 0., 0., 0.],\n",
              "          [0., 0., 0.,  ..., 0., 0., 0.]],\n",
              "\n",
              "         [[0., 0., 0.,  ..., 0., 0., 0.],\n",
              "          [0., 0., 0.,  ..., 0., 0., 0.],\n",
              "          [0., 0., 0.,  ..., 0., 0., 0.],\n",
              "          ...,\n",
              "          [0., 0., 0.,  ..., 0., 0., 0.],\n",
              "          [0., 0., 0.,  ..., 0., 0., 0.],\n",
              "          [0., 0., 0.,  ..., 0., 0., 0.]]],\n",
              "\n",
              "\n",
              "        [[[0., 0., 0.,  ..., 0., 0., 0.],\n",
              "          [0., 0., 0.,  ..., 0., 0., 0.],\n",
              "          [0., 0., 0.,  ..., 0., 0., 0.],\n",
              "          ...,\n",
              "          [0., 0., 0.,  ..., 0., 0., 0.],\n",
              "          [0., 0., 0.,  ..., 0., 0., 0.],\n",
              "          [0., 0., 0.,  ..., 0., 0., 0.]],\n",
              "\n",
              "         [[0., 0., 0.,  ..., 0., 0., 0.],\n",
              "          [0., 0., 0.,  ..., 0., 0., 0.],\n",
              "          [0., 0., 0.,  ..., 0., 0., 0.],\n",
              "          ...,\n",
              "          [0., 0., 0.,  ..., 0., 0., 0.],\n",
              "          [0., 0., 0.,  ..., 0., 0., 0.],\n",
              "          [0., 0., 0.,  ..., 0., 0., 0.]],\n",
              "\n",
              "         [[0., 0., 0.,  ..., 0., 0., 0.],\n",
              "          [0., 0., 0.,  ..., 0., 0., 0.],\n",
              "          [0., 0., 0.,  ..., 0., 0., 0.],\n",
              "          ...,\n",
              "          [0., 0., 0.,  ..., 0., 0., 0.],\n",
              "          [0., 0., 0.,  ..., 0., 0., 0.],\n",
              "          [0., 0., 0.,  ..., 0., 0., 0.]]],\n",
              "\n",
              "\n",
              "        ...,\n",
              "\n",
              "\n",
              "        [[[0., 0., 0.,  ..., 0., 0., 0.],\n",
              "          [0., 0., 0.,  ..., 0., 0., 0.],\n",
              "          [0., 0., 0.,  ..., 0., 0., 0.],\n",
              "          ...,\n",
              "          [0., 0., 0.,  ..., 0., 0., 0.],\n",
              "          [0., 0., 0.,  ..., 0., 0., 0.],\n",
              "          [0., 0., 0.,  ..., 0., 0., 0.]],\n",
              "\n",
              "         [[0., 0., 0.,  ..., 0., 0., 0.],\n",
              "          [0., 0., 0.,  ..., 0., 0., 0.],\n",
              "          [0., 0., 0.,  ..., 0., 0., 0.],\n",
              "          ...,\n",
              "          [0., 0., 0.,  ..., 0., 0., 0.],\n",
              "          [0., 0., 0.,  ..., 0., 0., 0.],\n",
              "          [0., 0., 0.,  ..., 0., 0., 0.]],\n",
              "\n",
              "         [[0., 0., 0.,  ..., 0., 0., 0.],\n",
              "          [0., 0., 0.,  ..., 0., 0., 0.],\n",
              "          [0., 0., 0.,  ..., 0., 0., 0.],\n",
              "          ...,\n",
              "          [0., 0., 0.,  ..., 0., 0., 0.],\n",
              "          [0., 0., 0.,  ..., 0., 0., 0.],\n",
              "          [0., 0., 0.,  ..., 0., 0., 0.]]],\n",
              "\n",
              "\n",
              "        [[[0., 0., 0.,  ..., 0., 0., 0.],\n",
              "          [0., 0., 0.,  ..., 0., 0., 0.],\n",
              "          [0., 0., 0.,  ..., 0., 0., 0.],\n",
              "          ...,\n",
              "          [0., 0., 0.,  ..., 0., 0., 0.],\n",
              "          [0., 0., 0.,  ..., 0., 0., 0.],\n",
              "          [0., 0., 0.,  ..., 0., 0., 0.]],\n",
              "\n",
              "         [[0., 0., 0.,  ..., 0., 0., 0.],\n",
              "          [0., 0., 0.,  ..., 0., 0., 0.],\n",
              "          [0., 0., 0.,  ..., 0., 0., 0.],\n",
              "          ...,\n",
              "          [0., 0., 0.,  ..., 0., 0., 0.],\n",
              "          [0., 0., 0.,  ..., 0., 0., 0.],\n",
              "          [0., 0., 0.,  ..., 0., 0., 0.]],\n",
              "\n",
              "         [[0., 0., 0.,  ..., 0., 0., 0.],\n",
              "          [0., 0., 0.,  ..., 0., 0., 0.],\n",
              "          [0., 0., 0.,  ..., 0., 0., 0.],\n",
              "          ...,\n",
              "          [0., 0., 0.,  ..., 0., 0., 0.],\n",
              "          [0., 0., 0.,  ..., 0., 0., 0.],\n",
              "          [0., 0., 0.,  ..., 0., 0., 0.]]],\n",
              "\n",
              "\n",
              "        [[[0., 0., 0.,  ..., 0., 0., 0.],\n",
              "          [0., 0., 0.,  ..., 0., 0., 0.],\n",
              "          [0., 0., 0.,  ..., 0., 0., 0.],\n",
              "          ...,\n",
              "          [0., 0., 0.,  ..., 0., 0., 0.],\n",
              "          [0., 0., 0.,  ..., 0., 0., 0.],\n",
              "          [0., 0., 0.,  ..., 0., 0., 0.]],\n",
              "\n",
              "         [[0., 0., 0.,  ..., 0., 0., 0.],\n",
              "          [0., 0., 0.,  ..., 0., 0., 0.],\n",
              "          [0., 0., 0.,  ..., 0., 0., 0.],\n",
              "          ...,\n",
              "          [0., 0., 0.,  ..., 0., 0., 0.],\n",
              "          [0., 0., 0.,  ..., 0., 0., 0.],\n",
              "          [0., 0., 0.,  ..., 0., 0., 0.]],\n",
              "\n",
              "         [[0., 0., 0.,  ..., 0., 0., 0.],\n",
              "          [0., 0., 0.,  ..., 0., 0., 0.],\n",
              "          [0., 0., 0.,  ..., 0., 0., 0.],\n",
              "          ...,\n",
              "          [0., 0., 0.,  ..., 0., 0., 0.],\n",
              "          [0., 0., 0.,  ..., 0., 0., 0.],\n",
              "          [0., 0., 0.,  ..., 0., 0., 0.]]]], device='cuda:0')"
            ]
          },
          "execution_count": 48,
          "metadata": {},
          "output_type": "execute_result"
        }
      ],
      "source": [
        "images.detach()"
      ]
    }
  ],
  "metadata": {
    "accelerator": "GPU",
    "colab": {
      "provenance": []
    },
    "gpuClass": "standard",
    "kernelspec": {
      "display_name": "Python 3",
      "name": "python3"
    },
    "language_info": {
      "name": "python"
    }
  },
  "nbformat": 4,
  "nbformat_minor": 0
}
